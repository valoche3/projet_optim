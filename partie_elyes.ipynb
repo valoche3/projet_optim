{
 "cells": [
  {
   "cell_type": "markdown",
   "id": "0d3a8bf4-0cb6-4fca-92fc-ab62319e0338",
   "metadata": {},
   "source": [
    "## Projet d'optimisation ##\n",
    "# Question 1"
   ]
  },
  {
   "cell_type": "markdown",
   "id": "4bf1ee91-f74b-4534-bb59-99920b73bb17",
   "metadata": {},
   "source": [
    "Le but du problème est de trouver l'allocation globale $x \\in \\mathbb{R}^m$ qui minimise le risque associé au rendement du portefeuille, i.e. la variance de cette allocation par rapport à la variation du prix des actifs $p \\in \\mathbb{R}^m$.\n",
    "\n",
    "La variance est l'équivalent d'un \"écart à la moyenne\" ; elle représente donc bien un indicateur du risque associé à un investissement. Ce risque prend en compte le lien entre la variation des prix et les allocations, d'où $x^T \\Sigma x$, où $\\Sigma$ est la matrice de covariance associé à $p$.\n",
    "\n",
    "La relation $\\bold{1}^T x = 1$ signifie simplement que l'on normalise l'allocation par souci de cohérence et de clarté ; pour une allocation donnée, le rendement représente le gain moyen associé à l'allocation, d'où $\\bar p^T x = r$."
   ]
  },
  {
   "cell_type": "code",
   "execution_count": null,
   "id": "5673517a",
   "metadata": {},
   "outputs": [],
   "source": []
  },
  {
   "cell_type": "markdown",
   "id": "9dd8146c-8574-4d6a-864e-4309db37404a",
   "metadata": {},
   "source": [
    "# Question 2"
   ]
  },
  {
   "cell_type": "markdown",
   "id": "f2c4373f-3240-46fb-9905-96283f5594f0",
   "metadata": {},
   "source": [
    "On souhaite minimiser le risque, donc on a\n",
    "$$\n",
    "\\begin{array}{rcl}\n",
    "f : z & \\longmapsto & f(z) = x^T \\Sigma x\n",
    "\\end{array}\n",
    "$$\n",
    "\n",
    "La variable $z$ dépend donc de $x$, mais aussi de $\\Sigma = \\left[ \\mathrm{Cov}(p_i, p_j) \\right]_{i,j \\in \\llbracket 1, m \\rrbracket}$ et donc de $p$. Le nombre de variables de décisions est donc $n = 2$, où chaque variable est un vecteur de $\\mathbb{R}^m$.\n",
    "\n",
    "L'énoncé contraint le problème par le biais de la condition de normalisation $\\bold{1}^T x = 1$ et celle de rendement $r = \\bar p^T x$ : on peut donc définir $$c_{eq,norm}(z) = \\bold{1}^T x - 1$$ et $$c_{eq,rend}(z) = \\bar p^T x - r$$ ce qui ajoute les contraintes égalité $c_{eq} : \\begin{cases} c_{eq,norm}(z) = 0 \\\\ c_{eq,rend}(z) = 0 \\end{cases}$ au problème de minimisation de $f$."
   ]
  },
  {
   "cell_type": "markdown",
   "id": "276c1e7d-7189-47a6-bff1-734f84c4c2bd",
   "metadata": {},
   "source": [
    "# Question 3"
   ]
  },
  {
   "cell_type": "markdown",
   "id": "17891231-c3c7-4dae-9a36-45602ca985fd",
   "metadata": {},
   "source": [
    "On ajoute une contrainte inégalité pour limiter les positions _short_ à un certain montant par allocation, afin de garantir un équilibre de marché, ne pas entraîner de trop fortes fluctuation des actifs et donc une variance trop élevée.\n",
    "\n",
    "On a donc dans ce problème une contrainte égalité (représentée par la fonction $c_{eq}$) et une contrainte inégalité.\n",
    "\n",
    "Or la contrainte inégalité comprend déjà une fonction $max$ ; on cherche donc à minimiser une fonction $f$ sous contrainte d'une limitation d'un maximum, ce qui risque de compliquer les calculs..."
   ]
  },
  {
   "cell_type": "markdown",
   "id": "73d8aaf1-eeec-4950-81d1-886ed1497b7b",
   "metadata": {},
   "source": [
    "# Question 4"
   ]
  },
  {
   "cell_type": "markdown",
   "id": "7c927196-71e0-4246-8123-e9faa0c72b85",
   "metadata": {},
   "source": [
    "$\\max(-x,\\bold{0})$ vérifie\n",
    "$\\forall x \\in \\mathbb{R}^m, \\max(-x,\\bold{0}) ≥ -x$ et $\\max(-x,\\bold{0}) ≥ 0$.\n",
    "\n",
    "En introduisant $s \\in \\mathbb{R}^m$ tel que $s ≥ -x$, $s ≥ 0$ et $\\bold{1}^T s ≤ s_M$, on a \n",
    "$$\\bold{1}^T \\max(-x,\\bold{0}) ≤ \\bold{1}^T s ≤ s_M$$\n",
    "En prenant $s$ le plus proche possible de $\\max(-x,\\bold{0})$, on peut reformuler de manière équivalente le problème de la question 2 :\n",
    "$$\\min f(z)$$\n",
    "sous les contraintes $c_{eq}(z) = 0$, $c_{in}(s) ≤ 0$ \n",
    "\n",
    "avec $\\begin{cases} s ≥ -x \\\\ s ≥ 0 \\end{cases}$ et $c_{in}(s) = \\bold{1}^T s - s_M$\n",
    "\n",
    "La variable $s$ est indirectement liée à $x$, et donc à $z$, puisqu'elle est choisie en fonction de $-x$ (on veut avoir $s = \\max(-x, \\bold{0})$ en se débarrassant du max)."
   ]
  },
  {
   "cell_type": "markdown",
   "id": "a3a89a4a-e6f8-4851-b42c-1f745353ecbb",
   "metadata": {},
   "source": [
    "# Question 5"
   ]
  },
  {
   "cell_type": "markdown",
   "id": "7f3b2778-1e94-4285-bde8-b72eae2a663e",
   "metadata": {},
   "source": [
    "Le problème $(4)$ est un problème d'optimisation sous contrainte avec une contrainte égalité affine.\n",
    "\n",
    "Une première méthode de résolution est d'utiliser les multiplicateurs de Lagrange, en calculant le lagrangien\n",
    "$$\\mathcal{L}(z, \\lambda) = f(z) + \\lambda^T c_{eq}(z)$$\n",
    "puis en  trouvant ses points stationnaires."
   ]
  },
  {
   "cell_type": "markdown",
   "id": "3b07dadc",
   "metadata": {},
   "source": [
    "On peut aussi penser aux conditions $(KKT)$ : en effet, une contrainte affine étant convexe, on a une équivalence entre respecter les conditions $(KKT)$ et être solution du problème d'optimisation sous contrainte affine."
   ]
  },
  {
   "cell_type": "markdown",
   "id": "0d19d888-7ec9-459d-8c92-406cbaa6c773",
   "metadata": {},
   "source": [
    "# Question 6"
   ]
  },
  {
   "cell_type": "code",
   "execution_count": null,
   "id": "94b613f7-1d4e-4785-a85b-28c0e969d6db",
   "metadata": {},
   "outputs": [],
   "source": [
    "# définition des variables\n",
    "p1 = 0.05\n",
    "p2 = 0.15\n",
    "p3 = 0.3\n",
    "rho = 0.1\n",
    "x = ...\n",
    "sig1 = 0.1\n",
    "sig2 = 0.3\n",
    "sig3 = 0.8\n",
    "sigma = np.array([sig1**2, rho*sig1*sig2, 0], [rho*sig1*sig2, sig2**2, 0], [0, 0, sig3**2])"
   ]
  },
  {
   "cell_type": "markdown",
   "id": "7f653564-ab89-4672-8140-a9efcffd3aab",
   "metadata": {},
   "source": [
    "# Question 7"
   ]
  },
  {
   "cell_type": "markdown",
   "id": "aebfc741-5f25-4660-8061-b784c3fa65ea",
   "metadata": {},
   "source": [
    "$(a)$\n",
    "\n",
    "$\\rho$ est le coefficient de corrélation associé aux vecteurs $p_1$ et $p_2$. Il peut prendre des valeurs dans l'intervalle $[-1, 1]$."
   ]
  },
  {
   "cell_type": "markdown",
   "id": "951d8f98-b786-4645-8383-7fd11c6d3f10",
   "metadata": {},
   "source": [
    "$(b)$"
   ]
  },
  {
   "cell_type": "code",
   "execution_count": null,
   "id": "ad56110e-0959-4842-8e30-41211616a1cd",
   "metadata": {},
   "outputs": [],
   "source": [
    "# définition des variables\n"
   ]
  }
 ],
 "metadata": {
  "kernelspec": {
   "display_name": "Python 3 (ipykernel)",
   "language": "python",
   "name": "python3"
  },
  "language_info": {
   "codemirror_mode": {
    "name": "ipython",
    "version": 3
   },
   "file_extension": ".py",
   "mimetype": "text/x-python",
   "name": "python",
   "nbconvert_exporter": "python",
   "pygments_lexer": "ipython3",
   "version": "3.12.9"
  }
 },
 "nbformat": 4,
 "nbformat_minor": 5
}
