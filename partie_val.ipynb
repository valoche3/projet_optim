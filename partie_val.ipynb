{
 "cells": [
  {
   "cell_type": "markdown",
   "id": "5081883d-fb45-468b-ab73-6c1c4a163fa9",
   "metadata": {},
   "source": [
    "# Projet d'optimisation"
   ]
  },
  {
   "cell_type": "markdown",
   "id": "4ecc97a7",
   "metadata": {},
   "source": [
    "Question 5 --> algorithmes 8 ou 9"
   ]
  },
  {
   "cell_type": "markdown",
   "id": "fa00d727",
   "metadata": {},
   "source": []
  }
 ],
 "metadata": {
  "kernelspec": {
   "display_name": "Python 3 (ipykernel)",
   "language": "python",
   "name": "python3"
  },
  "language_info": {
   "codemirror_mode": {
    "name": "ipython",
    "version": 3
   },
   "file_extension": ".py",
   "mimetype": "text/x-python",
   "name": "python",
   "nbconvert_exporter": "python",
   "pygments_lexer": "ipython3",
   "version": "3.12.4"
  }
 },
 "nbformat": 4,
 "nbformat_minor": 5
}
